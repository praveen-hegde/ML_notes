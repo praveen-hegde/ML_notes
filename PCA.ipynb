{
 "cells": [
  {
   "cell_type": "code",
   "execution_count": 157,
   "metadata": {},
   "outputs": [],
   "source": [
    "import numpy as np\n",
    "import pandas as pd\n",
    "import math"
   ]
  },
  {
   "cell_type": "code",
   "execution_count": 158,
   "metadata": {},
   "outputs": [],
   "source": [
    "data = pd.read_csv(\"iris.csv\")"
   ]
  },
  {
   "cell_type": "code",
   "execution_count": 159,
   "metadata": {},
   "outputs": [],
   "source": [
    "data.columns = [\"id\",\"SL\",\"SW\",\"PL\",\"PW\",\"species\"]"
   ]
  },
  {
   "cell_type": "code",
   "execution_count": 160,
   "metadata": {},
   "outputs": [
    {
     "data": {
      "text/html": [
       "<div>\n",
       "<style scoped>\n",
       "    .dataframe tbody tr th:only-of-type {\n",
       "        vertical-align: middle;\n",
       "    }\n",
       "\n",
       "    .dataframe tbody tr th {\n",
       "        vertical-align: top;\n",
       "    }\n",
       "\n",
       "    .dataframe thead th {\n",
       "        text-align: right;\n",
       "    }\n",
       "</style>\n",
       "<table border=\"1\" class=\"dataframe\">\n",
       "  <thead>\n",
       "    <tr style=\"text-align: right;\">\n",
       "      <th></th>\n",
       "      <th>id</th>\n",
       "      <th>SL</th>\n",
       "      <th>SW</th>\n",
       "      <th>PL</th>\n",
       "      <th>PW</th>\n",
       "      <th>species</th>\n",
       "    </tr>\n",
       "  </thead>\n",
       "  <tbody>\n",
       "    <tr>\n",
       "      <th>0</th>\n",
       "      <td>1</td>\n",
       "      <td>5.1</td>\n",
       "      <td>3.5</td>\n",
       "      <td>1.4</td>\n",
       "      <td>0.2</td>\n",
       "      <td>Iris-setosa</td>\n",
       "    </tr>\n",
       "    <tr>\n",
       "      <th>1</th>\n",
       "      <td>2</td>\n",
       "      <td>4.9</td>\n",
       "      <td>3.0</td>\n",
       "      <td>1.4</td>\n",
       "      <td>0.2</td>\n",
       "      <td>Iris-setosa</td>\n",
       "    </tr>\n",
       "  </tbody>\n",
       "</table>\n",
       "</div>"
      ],
      "text/plain": [
       "   id   SL   SW   PL   PW      species\n",
       "0   1  5.1  3.5  1.4  0.2  Iris-setosa\n",
       "1   2  4.9  3.0  1.4  0.2  Iris-setosa"
      ]
     },
     "execution_count": 160,
     "metadata": {},
     "output_type": "execute_result"
    }
   ],
   "source": [
    "data.head(2)"
   ]
  },
  {
   "cell_type": "code",
   "execution_count": 161,
   "metadata": {},
   "outputs": [],
   "source": [
    "data.drop(\"id\",inplace = True,axis=1)"
   ]
  },
  {
   "cell_type": "code",
   "execution_count": 162,
   "metadata": {},
   "outputs": [
    {
     "data": {
      "text/html": [
       "<div>\n",
       "<style scoped>\n",
       "    .dataframe tbody tr th:only-of-type {\n",
       "        vertical-align: middle;\n",
       "    }\n",
       "\n",
       "    .dataframe tbody tr th {\n",
       "        vertical-align: top;\n",
       "    }\n",
       "\n",
       "    .dataframe thead th {\n",
       "        text-align: right;\n",
       "    }\n",
       "</style>\n",
       "<table border=\"1\" class=\"dataframe\">\n",
       "  <thead>\n",
       "    <tr style=\"text-align: right;\">\n",
       "      <th></th>\n",
       "      <th>SL</th>\n",
       "      <th>SW</th>\n",
       "      <th>PL</th>\n",
       "      <th>PW</th>\n",
       "      <th>species</th>\n",
       "    </tr>\n",
       "  </thead>\n",
       "  <tbody>\n",
       "    <tr>\n",
       "      <th>0</th>\n",
       "      <td>5.1</td>\n",
       "      <td>3.5</td>\n",
       "      <td>1.4</td>\n",
       "      <td>0.2</td>\n",
       "      <td>Iris-setosa</td>\n",
       "    </tr>\n",
       "    <tr>\n",
       "      <th>1</th>\n",
       "      <td>4.9</td>\n",
       "      <td>3.0</td>\n",
       "      <td>1.4</td>\n",
       "      <td>0.2</td>\n",
       "      <td>Iris-setosa</td>\n",
       "    </tr>\n",
       "  </tbody>\n",
       "</table>\n",
       "</div>"
      ],
      "text/plain": [
       "    SL   SW   PL   PW      species\n",
       "0  5.1  3.5  1.4  0.2  Iris-setosa\n",
       "1  4.9  3.0  1.4  0.2  Iris-setosa"
      ]
     },
     "execution_count": 162,
     "metadata": {},
     "output_type": "execute_result"
    }
   ],
   "source": [
    "data.head(2)"
   ]
  },
  {
   "cell_type": "code",
   "execution_count": 163,
   "metadata": {},
   "outputs": [],
   "source": [
    "x_data = data.iloc[:,0:4]"
   ]
  },
  {
   "cell_type": "code",
   "execution_count": 164,
   "metadata": {},
   "outputs": [
    {
     "data": {
      "text/html": [
       "<div>\n",
       "<style scoped>\n",
       "    .dataframe tbody tr th:only-of-type {\n",
       "        vertical-align: middle;\n",
       "    }\n",
       "\n",
       "    .dataframe tbody tr th {\n",
       "        vertical-align: top;\n",
       "    }\n",
       "\n",
       "    .dataframe thead th {\n",
       "        text-align: right;\n",
       "    }\n",
       "</style>\n",
       "<table border=\"1\" class=\"dataframe\">\n",
       "  <thead>\n",
       "    <tr style=\"text-align: right;\">\n",
       "      <th></th>\n",
       "      <th>SL</th>\n",
       "      <th>SW</th>\n",
       "      <th>PL</th>\n",
       "      <th>PW</th>\n",
       "    </tr>\n",
       "  </thead>\n",
       "  <tbody>\n",
       "    <tr>\n",
       "      <th>0</th>\n",
       "      <td>5.1</td>\n",
       "      <td>3.5</td>\n",
       "      <td>1.4</td>\n",
       "      <td>0.2</td>\n",
       "    </tr>\n",
       "    <tr>\n",
       "      <th>1</th>\n",
       "      <td>4.9</td>\n",
       "      <td>3.0</td>\n",
       "      <td>1.4</td>\n",
       "      <td>0.2</td>\n",
       "    </tr>\n",
       "  </tbody>\n",
       "</table>\n",
       "</div>"
      ],
      "text/plain": [
       "    SL   SW   PL   PW\n",
       "0  5.1  3.5  1.4  0.2\n",
       "1  4.9  3.0  1.4  0.2"
      ]
     },
     "execution_count": 164,
     "metadata": {},
     "output_type": "execute_result"
    }
   ],
   "source": [
    "x_data.head(2)"
   ]
  },
  {
   "cell_type": "code",
   "execution_count": 165,
   "metadata": {},
   "outputs": [
    {
     "data": {
      "text/plain": [
       "(150, 4)"
      ]
     },
     "execution_count": 165,
     "metadata": {},
     "output_type": "execute_result"
    }
   ],
   "source": [
    "x_data.shape"
   ]
  },
  {
   "cell_type": "code",
   "execution_count": 114,
   "metadata": {},
   "outputs": [
    {
     "name": "stdout",
     "output_type": "stream",
     "text": [
      "[[5.1 3.5 1.4 0.2]\n",
      " [4.9 3.  1.4 0.2]\n",
      " [4.7 3.2 1.3 0.2]\n",
      " [4.6 3.1 1.5 0.2]]\n"
     ]
    }
   ],
   "source": [
    "x_array = np.array(x_data)\n",
    "print(x_array[0:4])"
   ]
  },
  {
   "cell_type": "code",
   "execution_count": 166,
   "metadata": {},
   "outputs": [],
   "source": [
    "def mean_std_dev(lst):\n",
    "    \"\"\"This will calculate mean and standard devation\"\"\"\n",
    "    mean = sum(lst)/len(lst)\n",
    "    st = 0\n",
    "    for i in lst:\n",
    "        st += ((i-mean)**2)\n",
    "        \n",
    "    std = math.sqrt(st/len(lst))\n",
    "    \n",
    "    return mean,std   "
   ]
  },
  {
   "cell_type": "code",
   "execution_count": 167,
   "metadata": {},
   "outputs": [],
   "source": [
    "def standardize(lst):\n",
    "    \n",
    "    \"\"\"Standrdzation\"\"\"\n",
    "    mean,std = mean_std_dev(lst)\n",
    "    \n",
    "    standard_feature = []\n",
    "    \n",
    "    for i in lst:\n",
    "        st = (i-mean)/std\n",
    "        standard_feature.append(st)\n",
    "        \n",
    "    return standard_feature\n",
    "        "
   ]
  },
  {
   "cell_type": "code",
   "execution_count": 168,
   "metadata": {},
   "outputs": [],
   "source": [
    "feature_1 = standardize(x_array[:,0])\n",
    "feature_2 = standardize(x_array[:,1])\n",
    "feature_3 = standardize(x_array[:,2])\n",
    "feature_4 = standardize(x_array[:,3])"
   ]
  },
  {
   "cell_type": "code",
   "execution_count": 170,
   "metadata": {},
   "outputs": [
    {
     "name": "stdout",
     "output_type": "stream",
     "text": [
      "[[-0.90068117  1.03205722 -1.3412724  -1.31297673]\n",
      " [-1.14301691 -0.1249576  -1.3412724  -1.31297673]\n",
      " [-1.38535265  0.33784833 -1.39813811 -1.31297673]\n",
      " [-1.50652052  0.10644536 -1.2844067  -1.31297673]\n",
      " [-1.02184904  1.26346019 -1.3412724  -1.31297673]]\n"
     ]
    }
   ],
   "source": [
    "data[\"SL\"] = feature_1\n",
    "data[\"SW\"] = feature_2\n",
    "data[\"PL\"] = feature_3\n",
    "data[\"PW\"] = feature_4\n",
    "\n",
    "X = np.array(data.iloc[:,0:4])\n",
    "print(X[:5])"
   ]
  },
  {
   "cell_type": "code",
   "execution_count": 171,
   "metadata": {},
   "outputs": [],
   "source": [
    "S = np.dot(X.T,X)/(len(X)-1)"
   ]
  },
  {
   "cell_type": "code",
   "execution_count": 172,
   "metadata": {},
   "outputs": [
    {
     "name": "stdout",
     "output_type": "stream",
     "text": [
      "[[ 1.00671141 -0.11010327  0.87760486  0.82344326]\n",
      " [-0.11010327  1.00671141 -0.42333835 -0.358937  ]\n",
      " [ 0.87760486 -0.42333835  1.00671141  0.96921855]\n",
      " [ 0.82344326 -0.358937    0.96921855  1.00671141]]\n"
     ]
    }
   ],
   "source": [
    "print(S)"
   ]
  },
  {
   "cell_type": "code",
   "execution_count": 121,
   "metadata": {},
   "outputs": [],
   "source": [
    "#inbuilt function\n",
    "#S = np.cov(X.T)"
   ]
  },
  {
   "cell_type": "code",
   "execution_count": null,
   "metadata": {},
   "outputs": [],
   "source": []
  },
  {
   "cell_type": "code",
   "execution_count": 173,
   "metadata": {},
   "outputs": [],
   "source": [
    "a = np.linalg.eig(S)"
   ]
  },
  {
   "cell_type": "code",
   "execution_count": 174,
   "metadata": {},
   "outputs": [
    {
     "data": {
      "text/plain": [
       "(array([2.93035378, 0.92740362, 0.14834223, 0.02074601]),\n",
       " array([[ 0.52237162, -0.37231836, -0.72101681,  0.26199559],\n",
       "        [-0.26335492, -0.92555649,  0.24203288, -0.12413481],\n",
       "        [ 0.58125401, -0.02109478,  0.14089226, -0.80115427],\n",
       "        [ 0.56561105, -0.06541577,  0.6338014 ,  0.52354627]]))"
      ]
     },
     "execution_count": 174,
     "metadata": {},
     "output_type": "execute_result"
    }
   ],
   "source": [
    "a"
   ]
  },
  {
   "cell_type": "code",
   "execution_count": 176,
   "metadata": {},
   "outputs": [
    {
     "name": "stdout",
     "output_type": "stream",
     "text": [
      "First eigen vector contribution, \n",
      "Cummuative contribution to variance :  [0.72770452 0.95800975 0.99484807 1.        ]\n"
     ]
    }
   ],
   "source": [
    "eigen_total = sum(a[0])\n",
    "eig_1 = a[0][0]/eigen_total\n",
    "eig_2 = a[0][1]/eigen_total\n",
    "eig_3 = a[0][2]/eigen_total\n",
    "eig_4 = a[0][3]/eigen_total\n",
    "\n",
    "eig_all = [eig_1,eig_2,eig_3,eig_4]\n",
    "\n",
    "print(\"First eigen vector contribution, \", )\n",
    "print(\"Cummuative contribution to variance : \", np.cumsum(eig_all))"
   ]
  },
  {
   "cell_type": "code",
   "execution_count": 187,
   "metadata": {},
   "outputs": [
    {
     "data": {
      "image/png": "[encoded data removed]",
      "text/plain": [
       "<Figure size 432x288 with 1 Axes>"
      ]
     },
     "metadata": {
      "needs_background": "light"
     },
     "output_type": "display_data"
    }
   ],
   "source": [
    "plt.plot(np.cumsum(eig_all))\n",
    "plt.show()"
   ]
  },
  {
   "cell_type": "code",
   "execution_count": 177,
   "metadata": {},
   "outputs": [
    {
     "data": {
      "text/plain": [
       "array([[ 0.52237162, -0.37231836],\n",
       "       [-0.26335492, -0.92555649],\n",
       "       [ 0.58125401, -0.02109478],\n",
       "       [ 0.56561105, -0.06541577]])"
      ]
     },
     "execution_count": 177,
     "metadata": {},
     "output_type": "execute_result"
    }
   ],
   "source": [
    "top_eig = a[0][0:2]\n",
    "top_eig_vectors = a[1][:,0:2]\n",
    "top_eig_vectors"
   ]
  },
  {
   "cell_type": "code",
   "execution_count": 126,
   "metadata": {},
   "outputs": [
    {
     "data": {
      "text/plain": [
       "2.983724378680108e-16"
      ]
     },
     "execution_count": 126,
     "metadata": {},
     "output_type": "execute_result"
    }
   ],
   "source": [
    "np.dot(top_eig_vectors[:,0],top_eig_vectors[:,1])"
   ]
  },
  {
   "cell_type": "code",
   "execution_count": 127,
   "metadata": {},
   "outputs": [
    {
     "data": {
      "text/plain": [
       "(150, 4)"
      ]
     },
     "execution_count": 127,
     "metadata": {},
     "output_type": "execute_result"
    }
   ],
   "source": [
    "X.shape"
   ]
  },
  {
   "cell_type": "code",
   "execution_count": 178,
   "metadata": {},
   "outputs": [],
   "source": [
    "_2d_features = X.dot(top_eig_vectors)"
   ]
  },
  {
   "cell_type": "code",
   "execution_count": 179,
   "metadata": {},
   "outputs": [
    {
     "data": {
      "text/plain": [
       "array([[-2.26454173e+00, -5.05703903e-01],\n",
       "       [-2.08642550e+00,  6.55404729e-01],\n",
       "       [-2.36795045e+00,  3.18477311e-01],\n",
       "       [-2.30419716e+00,  5.75367713e-01],\n",
       "       [-2.38877749e+00, -6.74767397e-01],\n",
       "       [-2.07053681e+00, -1.51854856e+00],\n",
       "       [-2.44571134e+00, -7.45626750e-02],\n",
       "       [-2.23384186e+00, -2.47613932e-01],\n",
       "       [-2.34195768e+00,  1.09514636e+00],\n",
       "       [-2.18867576e+00,  4.48629048e-01],\n",
       "       [-2.16348656e+00, -1.07059558e+00],\n",
       "       [-2.32737775e+00, -1.58587455e-01],\n",
       "       [-2.22408272e+00,  7.09118158e-01],\n",
       "       [-2.63971626e+00,  9.38281982e-01],\n",
       "       [-2.19229151e+00, -1.88997851e+00],\n",
       "       [-2.25146521e+00, -2.72237108e+00],\n",
       "       [-2.20275048e+00, -1.51375028e+00],\n",
       "       [-2.19017916e+00, -5.14304308e-01],\n",
       "       [-1.89407429e+00, -1.43111071e+00],\n",
       "       [-2.33994907e+00, -1.15803343e+00],\n",
       "       [-1.91455639e+00, -4.30465163e-01],\n",
       "       [-2.20464540e+00, -9.52457317e-01],\n",
       "       [-2.77416979e+00, -4.89517027e-01],\n",
       "       [-1.82041156e+00, -1.06750793e-01],\n",
       "       [-2.22821750e+00, -1.62186163e-01],\n",
       "       [-1.95702401e+00,  6.07892567e-01],\n",
       "       [-2.05206331e+00, -2.66014312e-01],\n",
       "       [-2.16819365e+00, -5.52016495e-01],\n",
       "       [-2.14030596e+00, -3.36640409e-01],\n",
       "       [-2.26879019e+00,  3.14878603e-01],\n",
       "       [-2.14455443e+00,  4.83942097e-01],\n",
       "       [-1.83193810e+00, -4.45266836e-01],\n",
       "       [-2.60820287e+00, -1.82847519e+00],\n",
       "       [-2.43795086e+00, -2.18539162e+00],\n",
       "       [-2.18867576e+00,  4.48629048e-01],\n",
       "       [-2.21111990e+00,  1.84337811e-01],\n",
       "       [-2.04441652e+00, -6.84956426e-01],\n",
       "       [-2.18867576e+00,  4.48629048e-01],\n",
       "       [-2.43595220e+00,  8.82169415e-01],\n",
       "       [-2.17054720e+00, -2.92726955e-01],\n",
       "       [-2.28652724e+00, -4.67991716e-01],\n",
       "       [-1.87170722e+00,  2.32769161e+00],\n",
       "       [-2.55783442e+00,  4.53816380e-01],\n",
       "       [-1.96427929e+00, -4.97391640e-01],\n",
       "       [-2.13337283e+00, -1.17143211e+00],\n",
       "       [-2.07535759e+00,  6.91917347e-01],\n",
       "       [-2.38125822e+00, -1.15063259e+00],\n",
       "       [-2.39819169e+00,  3.62390765e-01],\n",
       "       [-2.22678121e+00, -1.02548255e+00],\n",
       "       [-2.20595417e+00, -3.22378453e-02],\n",
       "       [ 1.10399365e+00, -8.63112446e-01],\n",
       "       [ 7.32481440e-01, -5.98635573e-01],\n",
       "       [ 1.24210951e+00, -6.14822450e-01],\n",
       "       [ 3.97307283e-01,  1.75816895e+00],\n",
       "       [ 1.07259395e+00,  2.11757903e-01],\n",
       "       [ 3.84458146e-01,  5.91062469e-01],\n",
       "       [ 7.48715076e-01, -7.78698611e-01],\n",
       "       [-4.97863388e-01,  1.84886877e+00],\n",
       "       [ 9.26222368e-01, -3.03308268e-02],\n",
       "       [ 4.96802558e-03,  1.02940111e+00],\n",
       "       [-1.24697461e-01,  2.65806268e+00],\n",
       "       [ 4.38730118e-01,  5.88812850e-02],\n",
       "       [ 5.51633981e-01,  1.77258156e+00],\n",
       "       [ 7.17165066e-01,  1.85434315e-01],\n",
       "       [-3.72583830e-02,  4.32795099e-01],\n",
       "       [ 8.75890536e-01, -5.09998151e-01],\n",
       "       [ 3.48006402e-01,  1.90621647e-01],\n",
       "       [ 1.53392545e-01,  7.90725456e-01],\n",
       "       [ 1.21530321e+00,  1.63335564e+00],\n",
       "       [ 1.56941176e-01,  1.30310327e+00],\n",
       "       [ 7.38256104e-01, -4.02470382e-01],\n",
       "       [ 4.72369682e-01,  4.16608222e-01],\n",
       "       [ 1.22798821e+00,  9.40914793e-01],\n",
       "       [ 6.29381045e-01,  4.16811643e-01],\n",
       "       [ 7.00472799e-01,  6.34939277e-02],\n",
       "       [ 8.73536987e-01, -2.50708611e-01],\n",
       "       [ 1.25422219e+00,  8.26200998e-02],\n",
       "       [ 1.35823985e+00, -3.28820266e-01],\n",
       "       [ 6.62126138e-01,  2.24346071e-01],\n",
       "       [-4.72815133e-02,  1.05721241e+00],\n",
       "       [ 1.21534209e-01,  1.56359238e+00],\n",
       "       [ 1.41182261e-02,  1.57339235e+00],\n",
       "       [ 2.36010837e-01,  7.75923784e-01],\n",
       "       [ 1.05669143e+00,  6.36901284e-01],\n",
       "       [ 2.21417088e-01,  2.80847693e-01],\n",
       "       [ 4.31783161e-01, -8.55136920e-01],\n",
       "       [ 1.04941336e+00, -5.22197265e-01],\n",
       "       [ 1.03587821e+00,  1.39246648e+00],\n",
       "       [ 6.70675999e-02,  2.12620735e-01],\n",
       "       [ 2.75425066e-01,  1.32981591e+00],\n",
       "       [ 2.72335066e-01,  1.11944152e+00],\n",
       "       [ 6.23170540e-01, -2.75426333e-02],\n",
       "       [ 3.30005364e-01,  9.88900732e-01],\n",
       "       [-3.73627623e-01,  2.01793227e+00],\n",
       "       [ 2.82944343e-01,  8.53950717e-01],\n",
       "       [ 8.90531103e-02,  1.74908548e-01],\n",
       "       [ 2.24356783e-01,  3.80484659e-01],\n",
       "       [ 5.73883486e-01,  1.53719974e-01],\n",
       "       [-4.57012873e-01,  1.53946451e+00],\n",
       "       [ 2.52244473e-01,  5.95860746e-01],\n",
       "       [ 1.84767259e+00, -8.71696662e-01],\n",
       "       [ 1.15318981e+00,  7.01326114e-01],\n",
       "       [ 2.20634950e+00, -5.54470105e-01],\n",
       "       [ 1.43868540e+00,  5.00105223e-02],\n",
       "       [ 1.86789070e+00, -2.91192802e-01],\n",
       "       [ 2.75419671e+00, -7.88432206e-01],\n",
       "       [ 3.58374475e-01,  1.56009458e+00],\n",
       "       [ 2.30300590e+00, -4.09516695e-01],\n",
       "       [ 2.00173530e+00,  7.23865359e-01],\n",
       "       [ 2.26755460e+00, -1.92144299e+00],\n",
       "       [ 1.36590943e+00, -6.93948040e-01],\n",
       "       [ 1.59906459e+00,  4.28248836e-01],\n",
       "       [ 1.88425185e+00, -4.14332758e-01],\n",
       "       [ 1.25308651e+00,  1.16739134e+00],\n",
       "       [ 1.46406152e+00,  4.44147569e-01],\n",
       "       [ 1.59180930e+00, -6.77035372e-01],\n",
       "       [ 1.47128019e+00, -2.53192472e-01],\n",
       "       [ 2.43737848e+00, -2.55675734e+00],\n",
       "       [ 3.30914118e+00,  2.36132010e-03],\n",
       "       [ 1.25398099e+00,  1.71758384e+00],\n",
       "       [ 2.04049626e+00, -9.07398765e-01],\n",
       "       [ 9.73915114e-01,  5.71174376e-01],\n",
       "       [ 2.89806444e+00, -3.97791359e-01],\n",
       "       [ 1.32919369e+00,  4.86760542e-01],\n",
       "       [ 1.70424071e+00, -1.01414842e+00],\n",
       "       [ 1.95772766e+00, -1.00333452e+00],\n",
       "       [ 1.17190451e+00,  3.18896617e-01],\n",
       "       [ 1.01978105e+00, -6.55429631e-02],\n",
       "       [ 1.78600886e+00,  1.93272800e-01],\n",
       "       [ 1.86477791e+00, -5.55381532e-01],\n",
       "       [ 2.43549739e+00, -2.46654468e-01],\n",
       "       [ 2.31608241e+00, -2.62618387e+00],\n",
       "       [ 1.86037143e+00,  1.84672394e-01],\n",
       "       [ 1.11127173e+00,  2.95986102e-01],\n",
       "       [ 1.19746916e+00,  8.17167742e-01],\n",
       "       [ 2.80094940e+00, -8.44748194e-01],\n",
       "       [ 1.58015525e+00, -1.07247450e+00],\n",
       "       [ 1.34704442e+00, -4.22255966e-01],\n",
       "       [ 9.23432978e-01, -1.92303705e-02],\n",
       "       [ 1.85355198e+00, -6.72422729e-01],\n",
       "       [ 2.01615720e+00, -6.10397038e-01],\n",
       "       [ 1.90311686e+00, -6.86024832e-01],\n",
       "       [ 1.15318981e+00,  7.01326114e-01],\n",
       "       [ 2.04330844e+00, -8.64684880e-01],\n",
       "       [ 2.00169097e+00, -1.04855005e+00],\n",
       "       [ 1.87052207e+00, -3.82821838e-01],\n",
       "       [ 1.55849189e+00,  9.05313601e-01],\n",
       "       [ 1.52084506e+00, -2.66794575e-01],\n",
       "       [ 1.37639119e+00, -1.01636193e+00],\n",
       "       [ 9.59298576e-01,  2.22839447e-02]])"
      ]
     },
     "execution_count": 179,
     "metadata": {},
     "output_type": "execute_result"
    }
   ],
   "source": [
    "_2d_features"
   ]
  },
  {
   "cell_type": "code",
   "execution_count": 180,
   "metadata": {},
   "outputs": [],
   "source": [
    "new_data = pd.DataFrame()"
   ]
  },
  {
   "cell_type": "code",
   "execution_count": 181,
   "metadata": {},
   "outputs": [],
   "source": [
    "new_data[\"First_PC\"] = _2d_features[:,0]\n",
    "new_data[\"Second_PC\"] = _2d_features[:,1]\n",
    "new_data[\"Species\"] = data[\"species\"]"
   ]
  },
  {
   "cell_type": "code",
   "execution_count": null,
   "metadata": {},
   "outputs": [],
   "source": []
  },
  {
   "cell_type": "code",
   "execution_count": 182,
   "metadata": {},
   "outputs": [
    {
     "data": {
      "text/html": [
       "<div>\n",
       "<style scoped>\n",
       "    .dataframe tbody tr th:only-of-type {\n",
       "        vertical-align: middle;\n",
       "    }\n",
       "\n",
       "    .dataframe tbody tr th {\n",
       "        vertical-align: top;\n",
       "    }\n",
       "\n",
       "    .dataframe thead th {\n",
       "        text-align: right;\n",
       "    }\n",
       "</style>\n",
       "<table border=\"1\" class=\"dataframe\">\n",
       "  <thead>\n",
       "    <tr style=\"text-align: right;\">\n",
       "      <th></th>\n",
       "      <th>First_PC</th>\n",
       "      <th>Second_PC</th>\n",
       "      <th>Species</th>\n",
       "    </tr>\n",
       "  </thead>\n",
       "  <tbody>\n",
       "    <tr>\n",
       "      <th>0</th>\n",
       "      <td>-2.264542</td>\n",
       "      <td>-0.505704</td>\n",
       "      <td>Iris-setosa</td>\n",
       "    </tr>\n",
       "    <tr>\n",
       "      <th>1</th>\n",
       "      <td>-2.086426</td>\n",
       "      <td>0.655405</td>\n",
       "      <td>Iris-setosa</td>\n",
       "    </tr>\n",
       "    <tr>\n",
       "      <th>2</th>\n",
       "      <td>-2.367950</td>\n",
       "      <td>0.318477</td>\n",
       "      <td>Iris-setosa</td>\n",
       "    </tr>\n",
       "    <tr>\n",
       "      <th>3</th>\n",
       "      <td>-2.304197</td>\n",
       "      <td>0.575368</td>\n",
       "      <td>Iris-setosa</td>\n",
       "    </tr>\n",
       "    <tr>\n",
       "      <th>4</th>\n",
       "      <td>-2.388777</td>\n",
       "      <td>-0.674767</td>\n",
       "      <td>Iris-setosa</td>\n",
       "    </tr>\n",
       "  </tbody>\n",
       "</table>\n",
       "</div>"
      ],
      "text/plain": [
       "   First_PC  Second_PC      Species\n",
       "0 -2.264542  -0.505704  Iris-setosa\n",
       "1 -2.086426   0.655405  Iris-setosa\n",
       "2 -2.367950   0.318477  Iris-setosa\n",
       "3 -2.304197   0.575368  Iris-setosa\n",
       "4 -2.388777  -0.674767  Iris-setosa"
      ]
     },
     "execution_count": 182,
     "metadata": {},
     "output_type": "execute_result"
    }
   ],
   "source": [
    "new_data.head()"
   ]
  },
  {
   "cell_type": "code",
   "execution_count": 183,
   "metadata": {},
   "outputs": [
    {
     "data": {
      "text/plain": [
       "array(['Iris-setosa', 'Iris-versicolor', 'Iris-virginica'], dtype=object)"
      ]
     },
     "execution_count": 183,
     "metadata": {},
     "output_type": "execute_result"
    }
   ],
   "source": [
    "new_data[\"Species\"].unique()"
   ]
  },
  {
   "cell_type": "code",
   "execution_count": 184,
   "metadata": {},
   "outputs": [],
   "source": [
    "import matplotlib.pyplot as plt\n",
    "import seaborn as sns"
   ]
  },
  {
   "cell_type": "code",
   "execution_count": null,
   "metadata": {
    "scrolled": true
   },
   "outputs": [],
   "source": []
  },
  {
   "cell_type": "code",
   "execution_count": 185,
   "metadata": {},
   "outputs": [
    {
     "data": {
      "image/png": "[encoded data removed]",
      "text/plain": [
       "<Figure size 432x288 with 1 Axes>"
      ]
     },
     "metadata": {
      "needs_background": "light"
     },
     "output_type": "display_data"
    }
   ],
   "source": [
    "plt.figure()\n",
    "y_names = new_data[\"Species\"].unique()\n",
    "y = new_data[\"Species\"]\n",
    "\n",
    "for c,i,y_name in zip(\"rgb\",[\"Iris-setosa\",\"Iris-versicolor\",\"Iris-virginica\"],y_names):\n",
    "    plt.scatter(new_data[y==i][:][\"First_PC\"],new_data[y==i][:][\"Second_PC\"],c=c,label=y_name)\n",
    "\n",
    "plt.xlabel(\"First Principal Component\")\n",
    "plt.ylabel(\"Second principal Component\")\n",
    "plt.title(\"Scatter plot 2d\")\n",
    "plt.legend()\n",
    "plt.show()\n",
    "\n"
   ]
  },
  {
   "cell_type": "code",
   "execution_count": null,
   "metadata": {},
   "outputs": [],
   "source": []
  },
  {
   "cell_type": "code",
   "execution_count": null,
   "metadata": {},
   "outputs": [],
   "source": []
  },
  {
   "cell_type": "code",
   "execution_count": null,
   "metadata": {},
   "outputs": [],
   "source": []
  }
 ],
 "metadata": {
  "kernelspec": {
   "display_name": "Python 3",
   "language": "python",
   "name": "python3"
  },
  "language_info": {
   "codemirror_mode": {
    "name": "ipython",
    "version": 3
   },
   "file_extension": ".py",
   "mimetype": "text/x-python",
   "name": "python",
   "nbconvert_exporter": "python",
   "pygments_lexer": "ipython3",
   "version": "3.8.3"
  }
 },
 "nbformat": 4,
 "nbformat_minor": 4
}
